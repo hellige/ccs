{
 "cells": [
  {
   "cell_type": "markdown",
   "metadata": {},
   "source": [
    "### Representing and minimizing rules"
   ]
  },
  {
   "cell_type": "markdown",
   "metadata": {},
   "source": [
    "*(You'll need to: `conda install pyrsistent networkx` and then `pip install nxpd`. You'll also need graphviz.)*"
   ]
  },
  {
   "cell_type": "markdown",
   "metadata": {},
   "source": [
    "Our rules are represented as positive monotone formulas in CNF. This is flexible enough for practical purposes, while still allowing us to define a normal form suitable for diffing, etc.\n",
    "\n",
    "A _clause_ is a set of literals, and a _formula_ a set of clauses. We sort each first by size, then lexicographically."
   ]
  },
  {
   "cell_type": "code",
   "execution_count": 14,
   "metadata": {},
   "outputs": [],
   "source": [
    "class Clause(object):\n",
    "    def __init__(self, *args):\n",
    "        self.literals = frozenset(args)\n",
    "        \n",
    "    def __str__(self):\n",
    "        return \", \".join(map(str, sorted(self.literals)))\n",
    "    \n",
    "    def _repr_pretty_(self, p, cycle):\n",
    "       p.text(str(self) if not cycle else '...')\n",
    "    \n",
    "    def __lt__(self, other):\n",
    "        if len(self.literals) == len(other.literals):\n",
    "            return sorted(self.literals) < sorted(other.literals)\n",
    "        return len(self.literals) < len(other.literals)\n",
    "    \n",
    "    def __eq__(self, other):\n",
    "        return self.literals == other.literals\n",
    "    \n",
    "    def __hash__(self):\n",
    "        return hash(self.literals)\n",
    "    \n",
    "    def __repr__(self):\n",
    "        return '<{}>'.format(''.join(self.literals))\n",
    "    \n",
    "class Formula(object):\n",
    "    def __init__(self, *args):\n",
    "        self.clauses = set(args)\n",
    "        \n",
    "    def __str__(self):\n",
    "        return \" \".join(map(lambda x: \"({})\".format(x), sorted(self.clauses)))\n",
    "    \n",
    "    def _repr_pretty_(self, p, cycle):\n",
    "       p.text(str(self) if not cycle else '...')\n",
    "    \n",
    "    def __lt__(self, other):\n",
    "        if len(self.clauses) == len(other.clauses):\n",
    "            return sorted(self.clauses) < sorted(other.clauses)\n",
    "        return len(self.clauses) < len(other.clauses)\n",
    "    \n",
    "def formula(*sets):\n",
    "    return Formula(*map(lambda s: Clause(*s), sets))\n",
    "\n",
    "def parse(str):\n",
    "    return normalize(formula(*(set(clause) for clause in str.split(' '))))\n",
    "    \n",
    "def forms(*strs):\n",
    "    return [parse(str) for str in strs]"
   ]
  },
  {
   "cell_type": "code",
   "execution_count": 15,
   "metadata": {},
   "outputs": [
    {
     "data": {
      "text/plain": [
       "(ab, e) (a, ab, c) (a, b, c)"
      ]
     },
     "execution_count": 15,
     "metadata": {},
     "output_type": "execute_result"
    }
   ],
   "source": [
    "formula({'a', 'b', 'c'}, {'ab', 'e'}, {'a', 'ab', 'c'})"
   ]
  },
  {
   "cell_type": "markdown",
   "metadata": {},
   "source": [
    "For any formula, we define a normal form which exists, is unique, and is equivalent to the original formula under the usual interpretation of boolean logic.\n",
    "\n",
    "Clauses are always normal, since all literals are positive. Formulas are normalized by removing any clause subsumed by any other. A clause $c$ is _subsumed_ by a clause $s$ if $s \\subseteq c$. This is the obvious $O(mn)$ algorithm. Our clauses are almost always of size 1, so this is just fine."
   ]
  },
  {
   "cell_type": "code",
   "execution_count": 16,
   "metadata": {},
   "outputs": [],
   "source": [
    "def subsumes(c, d):\n",
    "    return c.literals.issubset(d.literals)\n",
    "\n",
    "def normalize(formula):\n",
    "    minimized = set()\n",
    "    for c in formula.clauses:\n",
    "        minimized = {s for s in minimized if not subsumes(c, s)}\n",
    "        if not any(subsumes(s, c) for s in minimized):\n",
    "            minimized.add(c)\n",
    "    return Formula(*minimized)"
   ]
  },
  {
   "cell_type": "code",
   "execution_count": 17,
   "metadata": {},
   "outputs": [
    {
     "data": {
      "text/plain": [
       "(a) (b) (a, b) (c, d) (a, c, d)"
      ]
     },
     "execution_count": 17,
     "metadata": {},
     "output_type": "execute_result"
    }
   ],
   "source": [
    "form = formula({'a', 'b'}, {'b'}, {'a'}, {'c', 'd'}, {'a', 'c', 'd'}, {'c', 'd'})\n",
    "form"
   ]
  },
  {
   "cell_type": "code",
   "execution_count": 18,
   "metadata": {},
   "outputs": [
    {
     "data": {
      "text/plain": [
       "(a) (b) (c, d)"
      ]
     },
     "execution_count": 18,
     "metadata": {},
     "output_type": "execute_result"
    }
   ],
   "source": [
    "normalize(form)"
   ]
  },
  {
   "cell_type": "markdown",
   "metadata": {},
   "source": [
    "### Matching"
   ]
  },
  {
   "cell_type": "markdown",
   "metadata": {},
   "source": [
    "The problem of matching rules to contexts amounts to testing formulas against truth-value assignments. But there are a few particularities which apply to our setting...\n",
    "\n",
    " - we want to evaluate rules under partial assignments as well as total assignemnts, identifying\n",
    "   rules which are not yet satisfied, but remain satisfiable by future assignments.\n",
    " - we're always monotonically extending partial assignments and then re-evaluating, so it seems \n",
    "   like a good idea to re-use the current state as a starting point for future evaluations.\n",
    " - many assignments will co-exist at the same time, and each may subsequently be used as the\n",
    "   starting point for future evaluations.\n",
    "   \n",
    "If we use an algorithm that just freshly evaluates all the rules against each assignment from scratch, there's not much more to do. If, however, we want to use an algorithm that performs work incrementally from the prior assignment, then we also want persistent data structures so that the old and new states can co-exist without copying.\n",
    "\n",
    "Here are some ideas...\n",
    "\n",
    "#### Brute force\n",
    "\n",
    " 1. Index rules by properties set in that context\n",
    " 2. Do nothing else until a property is requested\n",
    " 3. Find all rules setting that property\n",
    " 4. Evaluate each rule against the current assignment\n",
    " 5. Apply specificity logic, etc.\n",
    " \n",
    "This might be just fine, particularly if there are lots of different properties with only a few settings each. For situations where lots of properties are queried and set in the same context, there are some simple tricks that could speed things up. For instance, a given rule could be marked as satisfied (or not) by a given assignment so that future properties queried in the same context wouldn't need to reevaluate those rules. But in the case where are many, many settings of the same property in a large number of different rules, this seems unavoidably pretty bad.\n",
    "\n",
    "There maybe other use cases for which this approach wouldn't work as well. For instance, enumerating properties set in a given context, or enumerating all the possible values of a given key that could be added to reveal additional settings. Those are more rare, though, and it would be ok if they were more expensive, as long as they're tractable.\n",
    "\n",
    "#### DAG/Rete\n",
    "\n",
    " 1. Use rules to build an immutable graph, with root nodes for each literal\n",
    " 2. As the context is extended with additional facts, propagate those facts through the graph,\n",
    "    activating child nodes as appropriate\n",
    " 3. When a node containing property settings is activated, add those settings to the properties\n",
    "    visible in the current context\n",
    " 4. Apply specificity logic, either separately or in step 3 when adding settings\n",
    " \n",
    "This is most similar to the current implementation, and most similar to what I've implemented so far for CCS2. Given the requirements above, the node activation state must be kept separately from the main graph, and in a persistent data structure. Likewise the visible settings.\n",
    "\n",
    "Querying properties and enumerating properties are both trivial. The problem of enumerating key values remains tricky, but I've already implemented one variant and it's not too bad.\n",
    "\n",
    "There are lots of variants of this involving different approaches to building the dag. Since we're dealing with CNF terms, one possibility is to build a graph for disjunctions and one for conjunctions (or, equivalently, a single graph in two layers). The only thing remaining then is to optimize the structure of each of those graphs to amortize work done at each step.\n",
    "\n",
    "#### Other matching approaches\n",
    "\n",
    "There are other matching approaches to indexing and matching boolean formulas. Perhaps one of these would be better, but it would need to support partial matching (to find satisfiable but not yet satisfied rules), and may need to support an incremental implementation using immutable data structures, depending on its overall performance."
   ]
  },
  {
   "cell_type": "markdown",
   "metadata": {},
   "source": [
    "###  The DAG approach"
   ]
  },
  {
   "cell_type": "markdown",
   "metadata": {},
   "source": [
    "So let's give this approach a try... The dag will be rooted with a bunch of literals, which in actual practice consist of key/value-pattern matchable forms, but for now we'll just leave opaque.\n",
    "\n",
    "Nodes consist of an operation (and/or), an activation tally count, their children and their property settings. The top-level dag contains an otherwise unused node for the root-level settings."
   ]
  },
  {
   "cell_type": "code",
   "execution_count": 19,
   "metadata": {},
   "outputs": [],
   "source": [
    "from enum import Enum\n",
    "class Op(Enum):\n",
    "    AND = 'AND'\n",
    "    OR = 'OR'\n",
    "\n",
    "class Node(object):\n",
    "    def __init__(self, op, tallyCount):\n",
    "        self.op = op\n",
    "        \n",
    "        self.tallyCount = tallyCount\n",
    "        self.children = []\n",
    "        self.props = {}\n",
    "\n",
    "from collections import defaultdict\n",
    "\n",
    "class Dag(object):\n",
    "    def __init__(self):\n",
    "        self.children = defaultdict(list)\n",
    "        self.rootSettings = Node(Op.OR, 0)"
   ]
  },
  {
   "cell_type": "markdown",
   "metadata": {},
   "source": [
    "To build the dag, we build the whole thing in two phases, first adding all clauses from smallest to largest, then adding all formulas likewise. For this reason, we require the complete set of formulas up-front. We use the greedy set-cover approximation algorithm for each phase. NB: Here we rely on the fact that clauses and formulas are both ordered from smallest to largest."
   ]
  },
  {
   "cell_type": "code",
   "execution_count": 20,
   "metadata": {},
   "outputs": [],
   "source": [
    "import heapq\n",
    "\n",
    "def build_dag(formulae):\n",
    "    all_clauses = sorted({c for f in formulae for c in f.clauses})\n",
    "\n",
    "    dag = Dag()\n",
    "    clause_children = {}\n",
    "\n",
    "    def build_clause(clause):\n",
    "        if len(clause.literals) == 1:\n",
    "            return dag.children[next(iter(clause.literals))]\n",
    "        cpairs_by_literal = defaultdict(list)\n",
    "        sizes = []\n",
    "        for c in clause_children:\n",
    "            if c.literals.issubset(clause.literals):\n",
    "                if len(c.literals) == len(clause.literals):\n",
    "                    return clause_children[c]\n",
    "                cpair = [-len(c.literals), c]\n",
    "                sizes.append(cpair)\n",
    "                for l in c.literals:\n",
    "                    cpairs_by_literal[l].append(cpair)\n",
    "        heapq.heapify(sizes)\n",
    "        covered = set()\n",
    "        node = Node(Op.OR, 1)\n",
    "\n",
    "        while len(sizes) and sizes[0][0] != 0:\n",
    "            best = heapq.heappop(sizes)[1]\n",
    "            clause_children[best].append(node)\n",
    "            for l in best.literals:\n",
    "                if l not in covered:\n",
    "                    covered.add(l)\n",
    "                    for cpair in cpairs_by_literal[l]:\n",
    "                        cpair[0] += 1\n",
    "            heapq.heapify(sizes)\n",
    "            \n",
    "        for l in clause.literals - covered:\n",
    "            dag.children[l].append(node)\n",
    "            \n",
    "        return node.children\n",
    "    \n",
    "    for clause in all_clauses:\n",
    "        clause_children[clause] = build_clause(clause)\n",
    "    \n",
    "    form_children = {}\n",
    "        \n",
    "    def build_form(form):\n",
    "        # TODO need a special case for the empty formula\n",
    "        if len(form.clauses) == 1:\n",
    "            return clause_children[next(iter(form.clauses))]\n",
    "        pairs = defaultdict(list)\n",
    "        sizes = []\n",
    "        for f in form_children:\n",
    "            if f.clauses.issubset(form.clauses):\n",
    "                if len(f.clauses) == len(form.clauses):\n",
    "                    return form_children[f]\n",
    "                pair = [-len(form.clauses), f]\n",
    "                sizes.append(pair)\n",
    "                for c in form.clauses:\n",
    "                    pairs[c].append(pair)\n",
    "        heapq.heapify(sizes)\n",
    "        covered = set()\n",
    "        node = Node(Op.AND, len(form.clauses))\n",
    "\n",
    "        while len(sizes) and sizes[0][0] != 0:\n",
    "            best = heapq.heappop(sizes)[1]\n",
    "            form_children[best].append(node)\n",
    "            for c in best.clauses:\n",
    "                if c not in covered:\n",
    "                    covered.add(c)\n",
    "                    for pair in pairs[c]:\n",
    "                        pair[0] += 1\n",
    "            heapq.heapify(sizes)\n",
    "            \n",
    "        for c in form.clauses - covered:\n",
    "            clause_children[c].append(node)\n",
    "            \n",
    "        return node.children\n",
    "                             \n",
    "    for form in sorted(formulae):\n",
    "        form_children[form] = build_form(form)\n",
    "        \n",
    "    return dag"
   ]
  },
  {
   "cell_type": "code",
   "execution_count": 21,
   "metadata": {},
   "outputs": [],
   "source": [
    "dag = build_dag(forms('a b c', 'a b', 'b c efg', 'b d ef'))"
   ]
  },
  {
   "cell_type": "markdown",
   "metadata": {},
   "source": [
    "Let's take a look at the result:"
   ]
  },
  {
   "cell_type": "code",
   "execution_count": 22,
   "metadata": {},
   "outputs": [
    {
     "data": {
      "image/png": "[encoded data removed]",
      "text/plain": [
       "<IPython.core.display.Image object>"
      ]
     },
     "execution_count": 22,
     "metadata": {},
     "output_type": "execute_result"
    }
   ],
   "source": [
    "import networkx as nx\n",
    "import nxpd\n",
    "\n",
    "nxpd.nxpdParams['show'] = 'ipynb'\n",
    "\n",
    "def draw(dag):\n",
    "    G = nx.DiGraph()\n",
    "    G.graph['dpi'] = 60\n",
    "    G.graph['rankdir'] = 'BT'\n",
    "    def add_nodes(p, ns):\n",
    "        for n in ns:\n",
    "            color = 'palegreen' if n.op == Op.OR else 'pink'\n",
    "            G.add_node(n, label=n.tallyCount, style='filled', fillcolor=color)\n",
    "            G.add_edge(p, n)\n",
    "            add_nodes(n, n.children)\n",
    "    for l, ns in dag.children.items():\n",
    "        G.add_node(l)\n",
    "        add_nodes(l, ns)\n",
    "    \n",
    "    return nxpd.draw(G)\n",
    "    \n",
    "draw(dag)    "
   ]
  }
 ],
 "metadata": {
  "kernelspec": {
   "display_name": "Python 3",
   "language": "python",
   "name": "python3"
  },
  "language_info": {
   "codemirror_mode": {
    "name": "ipython",
    "version": 3
   },
   "file_extension": ".py",
   "mimetype": "text/x-python",
   "name": "python",
   "nbconvert_exporter": "python",
   "pygments_lexer": "ipython3",
   "version": "3.7.3"
  }
 },
 "nbformat": 4,
 "nbformat_minor": 2
}
